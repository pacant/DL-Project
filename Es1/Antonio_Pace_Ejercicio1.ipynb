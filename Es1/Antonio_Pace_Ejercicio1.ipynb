{
  "cells": [
    {
      "cell_type": "markdown",
      "metadata": {
        "id": "vkHEHL9WLDeu"
      },
      "source": [
        "# Ejercicio 1. Red Neuronal en Keras y ScikitLearn\n",
        "\n",
        "En este primer ejercicio tendrás que trabajar con **Keras** y **ScikitLearn** para construir una red neuronal artificial multicapa que se ajuste a los datos en el fichero CSV que se adjunta: *diabetes.csv*\n",
        "\n",
        "Este fichero contiene el diagnóstico de diabetes de los indios Pima. Basado en datos personales (edad, número de\n",
        "veces de embarazo) y los resultados de los reconocimientos médicos (por ejemplo, presión sanguínea, índice de masa corporal, resultado de la prueba de tolerancia a la glucosa, etc.), intenta decidir si un indio Pima tiene diabetes o no.\n",
        "\n",
        "![pima](img/pima.jpg)"
      ]
    },
    {
      "cell_type": "markdown",
      "metadata": {
        "id": "Ec_TFbA5LAs-"
      },
      "source": [
        "## 1. Enunciado\n",
        "\n",
        "Basándote en la Práctica 3.2 (Keras vs SKLearn), y usando el dataset adjunto (ver apartado 3), crea **al menos 4** redes neuronales con arquitecturas distintas usando Keras. Como mínimo deben diferir **siempre** en los siguientes aspectos:\n",
        "* Aspecto 1: El número de capas, nodos en ellas, y función de activación en las capas ocultas (pueden ser distintas según la capa).\n",
        "* Aspecto 2: Factor de aprendizaje, número de épocas, y/o función de pérdida\n",
        "* Aspecto 3: Método de optimización (SGD, Adam, RMSprop, Adagrad...).\n",
        "\n",
        "Por ejemplo, una red debe tener un número distinto de capas, número de épocas y método de optimización. Esta vez estamos en un problema de *clasificación binaria*, por lo que no tienes que convertir a one-hot la variable objetivo. Según lo visto en el módulo 2, ¿Qué tipo de capa de salida necesitamos? Puedes hacer uso de la [referencia de Keras](https://keras.io/api/).\n",
        "\n",
        "Particiona el conjunto de datos en subconjunto de entrenamiento y de test (indica el % que has usado para cada uno). Explica brevemente cada red diseñada y las razones de su configuración, así como los elementos empleados (es decir, explicar brevemente qué es ReLU si se utiliza, etc.) Analiza los resultados obtenidos para cada combinación. ¿Cuándo converge más?"
      ]
    },
    {
      "cell_type": "markdown",
      "metadata": {
        "id": "JigSwjHrdSdf"
      },
      "source": [
        "## 2. Entrega\n",
        "\n",
        "La entrega de este ejercicio se realiza a través de la tarea creada para tal efecto en Enseñanza Virtual. Tienes que __entregar un notebook, y el HTML generado__ a partir de él, cuyas celdas estén ya evaluadas.\n",
        "\n",
        "La estructura del notebook debe contener los siguientes apartados:\n",
        "\n",
        "0. Cabecera: nombre y apellidos.\n",
        "1. Dataset: descripción y carga.\n",
        "2. Preparación de los datos para ser usados en tensorflow.\n",
        "3. Modelos creados en Keras (un sub-apartado para cada uno, explicando de forma razonada, con tus palabras y usando figuras, la arquitectura y su configuración, indicando además cómo los has implementado con tensorflow).\n",
        "4. Entrenamiento y evaluación de cada modelo creado (un sub-apartado para cada uno).\n",
        "5. Análisis de resultados.\n",
        "6. Bibliografía utilizada (enlaces web, material de clase, libros, etc.)."
      ]
    },
    {
      "cell_type": "markdown",
      "metadata": {
        "id": "H87O2INEdSdf"
      },
      "source": [
        "### 2.1. Nota importante\n",
        "-----\n",
        "**HONESTIDAD ACADÉMICA Y COPIAS: un trabajo práctico es un examen, por lo que\n",
        "debe realizarse de manera individual. La discusión y el intercambio de\n",
        "información de carácter general con los compañeros se permite (e incluso se\n",
        "recomienda), pero NO AL NIVEL DE CÓDIGO. Igualmente el remitir código de\n",
        "terceros, OBTENIDO A TRAVÉS DE LA RED o cualquier otro medio, se considerará\n",
        "plagio.**\n",
        "\n",
        "**Cualquier plagio o compartición de código que se detecte significará\n",
        "automáticamente la calificación de CERO EN LA ASIGNATURA para TODOS los\n",
        "alumnos involucrados. Por tanto a estos alumnos NO se les conservará, para\n",
        "futuras convocatorias, ninguna nota que hubiesen obtenido hasta el momento.\n",
        "SIN PERJUICIO DE OTRAS MEDIDAS DE CARÁCTER DISCIPLINARIO QUE SE PUDIERAN\n",
        "TOMAR.**\n",
        "\n",
        "-----"
      ]
    },
    {
      "cell_type": "markdown",
      "metadata": {
        "id": "K4Qf8CiSdSdg"
      },
      "source": [
        "## 3. El Dataset\n",
        "\n",
        "El siguiente código cargará los datos del fichero CSV adjunto al completo en las variables `X`e `Y`. Deberás hacer una división para conjunto de test y de train, razonando debidamente por qué has elegido el tamaño de cada conjunto."
      ]
    },
    {
      "cell_type": "markdown",
      "metadata": {
        "id": "Y96FGpqxfC3i"
      },
      "source": [
        "ANTONIO PACE"
      ]
    },
    {
      "cell_type": "code",
      "execution_count": 115,
      "metadata": {
        "id": "8srRIzZgdSdg"
      },
      "outputs": [],
      "source": [
        "# Importamos los paquetes necesarios\n",
        "import numpy as np\n",
        "import pandas as pd"
      ]
    },
    {
      "cell_type": "markdown",
      "metadata": {
        "id": "iY5J34RLfdwO"
      },
      "source": [
        "The dataset contained in \"diabetes.csv\" contains information about diabetes diagnosis of Pima indians, based on personal information and medical examinations like blood pressure and glucose concentration. The dataset has already been normalized and cleaned from missing values."
      ]
    },
    {
      "cell_type": "code",
      "execution_count": 116,
      "metadata": {
        "id": "17ePvhULdSdh"
      },
      "outputs": [],
      "source": [
        "# Lectura del dataset\n",
        "train = pd.read_csv(\"diabetes.csv\")"
      ]
    },
    {
      "cell_type": "code",
      "execution_count": 117,
      "metadata": {
        "id": "yQIMZ-lWdSdh"
      },
      "outputs": [],
      "source": [
        "X, Y = np.array(train.iloc[:,0:8]), np.array(train.iloc[:,9])"
      ]
    },
    {
      "cell_type": "markdown",
      "metadata": {
        "id": "epFqwt_2fBEF"
      },
      "source": [
        "Split the dataset into **training set** and **test set**, 80%-20%"
      ]
    },
    {
      "cell_type": "code",
      "execution_count": 118,
      "metadata": {
        "id": "txukzsteez2w"
      },
      "outputs": [],
      "source": [
        "from sklearn.model_selection import train_test_split\n",
        "\n",
        "X_train, X_test, y_train, y_test = train_test_split(X, Y, test_size=0.2, random_state=42)"
      ]
    },
    {
      "cell_type": "code",
      "execution_count": 119,
      "metadata": {
        "colab": {
          "base_uri": "https://localhost:8080/"
        },
        "id": "xwdIjEB9e8UJ",
        "outputId": "fbc1e5a6-c2dd-47d5-b60e-7f1774a408b2"
      },
      "outputs": [
        {
          "data": {
            "text/plain": [
              "array([[0.529412 , 0.85     , 0.606557 , ..., 0.655738 , 0.13877  ,\n",
              "        0.366667 ],\n",
              "       [0.470588 , 0.56     , 0.590164 , ..., 0.351714 , 0.325363 ,\n",
              "        0.616667 ],\n",
              "       [0.588235 , 0.575    , 0.803279 , ..., 0.357675 , 0.403074 ,\n",
              "        0.216667 ],\n",
              "       ...,\n",
              "       [0.352941 , 0.465    , 0.409836 , ..., 0.42772  , 0.118702 ,\n",
              "        0.0333333],\n",
              "       [0.0588235, 0.82     , 0.672131 , ..., 0.488823 , 0.112297 ,\n",
              "        0.483333 ],\n",
              "       [0.117647 , 0.55     , 0.606557 , ..., 0.482861 , 0.264731 ,\n",
              "        0.1      ]])"
            ]
          },
          "execution_count": 119,
          "metadata": {},
          "output_type": "execute_result"
        }
      ],
      "source": [
        "X_train"
      ]
    },
    {
      "cell_type": "markdown",
      "metadata": {
        "id": "09y-whb1hD0R"
      },
      "source": [
        "Converting labels to float64.\n",
        "I tried to create validation sets but we already have a small dataset so the results were not convenient."
      ]
    },
    {
      "cell_type": "code",
      "execution_count": 120,
      "metadata": {
        "id": "r5mJ5AXohLNt"
      },
      "outputs": [],
      "source": [
        "y_train = np.asarray(y_train).astype('float64')\n",
        "y_test = np.asarray(y_test).astype('float64')\n",
        "#X_valid, X_train2 = X_train[:50], X_train[50:]\n",
        "#y_valid, y_train2 = y_train[:50], y_train[50:]"
      ]
    },
    {
      "cell_type": "markdown",
      "metadata": {
        "id": "4GvoaCpFiY0K"
      },
      "source": [
        "Start creating the model. It's a binary classification problem (positive or negative to diabete) so we can use *sigmoid* as the activation function on the output layer. For a first try we use, other than the input layer, an hidden layer with 16 nodes and only one output layer since it's binary classification."
      ]
    },
    {
      "cell_type": "code",
      "execution_count": 121,
      "metadata": {
        "id": "P3MLB4pRhdxb"
      },
      "outputs": [],
      "source": [
        "from tensorflow import keras\n",
        "\n",
        "model = keras.models.Sequential()\n",
        "model.add(keras.layers.Dense(16,activation=\"relu\",input_shape=(X_train.shape[1],)))\n",
        "model.add(keras.layers.Dense(1,activation=\"sigmoid\"))"
      ]
    },
    {
      "cell_type": "markdown",
      "metadata": {
        "id": "UwBXBUhxjZq8"
      },
      "source": [
        "Again, since it's binary classification, we use binary crossentropy as *loss function*, for the optimizer we try with *adam*. The metric will be the accuracy of the prediction."
      ]
    },
    {
      "cell_type": "code",
      "execution_count": 122,
      "metadata": {
        "id": "ITiTtF9AjSrn"
      },
      "outputs": [],
      "source": [
        "from keras.optimizers import SGD, Adam, RMSprop, Adagrad\n",
        "\n",
        "model.compile(loss=\"binary_crossentropy\",\n",
        "              optimizer=Adagrad(),\n",
        "              metrics=[\"accuracy\"])"
      ]
    },
    {
      "cell_type": "code",
      "execution_count": 123,
      "metadata": {
        "colab": {
          "base_uri": "https://localhost:8080/"
        },
        "id": "E2Pgs8rLjoJV",
        "outputId": "c8ddb920-5e11-46f0-a74b-51baaf756125"
      },
      "outputs": [
        {
          "name": "stdout",
          "output_type": "stream",
          "text": [
            "Epoch 1/20\n",
            "20/20 [==============================] - 0s 2ms/step - loss: 0.6808 - accuracy: 0.6270\n",
            "Epoch 2/20\n",
            "20/20 [==============================] - 0s 2ms/step - loss: 0.6776 - accuracy: 0.6433\n",
            "Epoch 3/20\n",
            "20/20 [==============================] - 0s 2ms/step - loss: 0.6755 - accuracy: 0.6515\n",
            "Epoch 4/20\n",
            "20/20 [==============================] - 0s 2ms/step - loss: 0.6736 - accuracy: 0.6450\n",
            "Epoch 5/20\n",
            "20/20 [==============================] - 0s 2ms/step - loss: 0.6721 - accuracy: 0.6401\n",
            "Epoch 6/20\n",
            "20/20 [==============================] - 0s 2ms/step - loss: 0.6706 - accuracy: 0.6368\n",
            "Epoch 7/20\n",
            "20/20 [==============================] - 0s 2ms/step - loss: 0.6693 - accuracy: 0.6401\n",
            "Epoch 8/20\n",
            "20/20 [==============================] - 0s 2ms/step - loss: 0.6682 - accuracy: 0.6401\n",
            "Epoch 9/20\n",
            "20/20 [==============================] - 0s 2ms/step - loss: 0.6673 - accuracy: 0.6433\n",
            "Epoch 10/20\n",
            "20/20 [==============================] - 0s 2ms/step - loss: 0.6664 - accuracy: 0.6466\n",
            "Epoch 11/20\n",
            "20/20 [==============================] - 0s 2ms/step - loss: 0.6657 - accuracy: 0.6515\n",
            "Epoch 12/20\n",
            "20/20 [==============================] - 0s 2ms/step - loss: 0.6648 - accuracy: 0.6450\n",
            "Epoch 13/20\n",
            "20/20 [==============================] - 0s 2ms/step - loss: 0.6642 - accuracy: 0.6450\n",
            "Epoch 14/20\n",
            "20/20 [==============================] - 0s 2ms/step - loss: 0.6636 - accuracy: 0.6466\n",
            "Epoch 15/20\n",
            "20/20 [==============================] - 0s 2ms/step - loss: 0.6630 - accuracy: 0.6498\n",
            "Epoch 16/20\n",
            "20/20 [==============================] - 0s 2ms/step - loss: 0.6624 - accuracy: 0.6498\n",
            "Epoch 17/20\n",
            "20/20 [==============================] - 0s 2ms/step - loss: 0.6619 - accuracy: 0.6482\n",
            "Epoch 18/20\n",
            "20/20 [==============================] - 0s 2ms/step - loss: 0.6615 - accuracy: 0.6466\n",
            "Epoch 19/20\n",
            "20/20 [==============================] - 0s 2ms/step - loss: 0.6610 - accuracy: 0.6498\n",
            "Epoch 20/20\n",
            "20/20 [==============================] - 0s 2ms/step - loss: 0.6606 - accuracy: 0.6515\n"
          ]
        }
      ],
      "source": [
        "history = model.fit(X_train, y_train, epochs=20)"
      ]
    },
    {
      "cell_type": "code",
      "execution_count": 124,
      "metadata": {
        "colab": {
          "base_uri": "https://localhost:8080/"
        },
        "id": "52_IQqnJm86A",
        "outputId": "24a3d333-0b6d-4fac-b144-a5460d86482f"
      },
      "outputs": [
        {
          "name": "stdout",
          "output_type": "stream",
          "text": [
            "5/5 [==============================] - 0s 3ms/step - loss: 0.6559 - accuracy: 0.6623\n"
          ]
        },
        {
          "data": {
            "text/plain": [
              "[0.6559234261512756, 0.6623376607894897]"
            ]
          },
          "execution_count": 124,
          "metadata": {},
          "output_type": "execute_result"
        }
      ],
      "source": [
        "model.evaluate(X_test, y_test)"
      ]
    },
    {
      "cell_type": "code",
      "execution_count": 125,
      "metadata": {
        "colab": {
          "base_uri": "https://localhost:8080/"
        },
        "id": "We7D22FInS-C",
        "outputId": "40abc2dc-e2d2-48d1-809e-a1c08147dd29"
      },
      "outputs": [
        {
          "name": "stdout",
          "output_type": "stream",
          "text": [
            "20/20 [==============================] - 0s 2ms/step - loss: 0.6604 - accuracy: 0.6531\n"
          ]
        },
        {
          "data": {
            "text/plain": [
              "[0.6603580713272095, 0.653094470500946]"
            ]
          },
          "execution_count": 125,
          "metadata": {},
          "output_type": "execute_result"
        }
      ],
      "source": [
        "model.evaluate(X_train, y_train)"
      ]
    },
    {
      "cell_type": "markdown",
      "metadata": {
        "id": "kKpM1vpEnHMp"
      },
      "source": [
        "The accuracy is very low both in test and training set. Let's try with other parameters, adding a layer and adding nodes, using SGD as the optimizer."
      ]
    },
    {
      "cell_type": "code",
      "execution_count": 126,
      "metadata": {
        "id": "WuXtUdYInaWP"
      },
      "outputs": [],
      "source": [
        "model2 = keras.models.Sequential()\n",
        "model2.add(keras.layers.Dense(64,activation=\"relu\",input_shape=(X_train.shape[1],)))\n",
        "model2.add(keras.layers.Dense(16,activation=\"sigmoid\"))\n",
        "model2.add(keras.layers.Dense(1,activation=\"sigmoid\"))"
      ]
    },
    {
      "cell_type": "code",
      "execution_count": 127,
      "metadata": {
        "id": "uOYmSF5unjZC"
      },
      "outputs": [],
      "source": [
        "model2.compile(loss=\"binary_crossentropy\",\n",
        "              optimizer=\"sgd\",\n",
        "              metrics=[\"accuracy\"])"
      ]
    },
    {
      "cell_type": "code",
      "execution_count": 128,
      "metadata": {
        "colab": {
          "base_uri": "https://localhost:8080/"
        },
        "id": "QZVQm6TonrxC",
        "outputId": "6f8b13d7-d603-43c3-8e0a-96c6cb6d5473"
      },
      "outputs": [
        {
          "name": "stdout",
          "output_type": "stream",
          "text": [
            "Epoch 1/20\n",
            "10/10 [==============================] - 1s 3ms/step - loss: 0.7252 - accuracy: 0.4723\n",
            "Epoch 2/20\n",
            "10/10 [==============================] - 0s 3ms/step - loss: 0.6549 - accuracy: 0.6482\n",
            "Epoch 3/20\n",
            "10/10 [==============================] - 0s 3ms/step - loss: 0.6500 - accuracy: 0.6482\n",
            "Epoch 4/20\n",
            "10/10 [==============================] - 0s 2ms/step - loss: 0.6494 - accuracy: 0.6482\n",
            "Epoch 5/20\n",
            "10/10 [==============================] - 0s 3ms/step - loss: 0.6493 - accuracy: 0.6482\n",
            "Epoch 6/20\n",
            "10/10 [==============================] - 0s 2ms/step - loss: 0.6477 - accuracy: 0.6482\n",
            "Epoch 7/20\n",
            "10/10 [==============================] - 0s 3ms/step - loss: 0.6470 - accuracy: 0.6482\n",
            "Epoch 8/20\n",
            "10/10 [==============================] - 0s 3ms/step - loss: 0.6462 - accuracy: 0.6482\n",
            "Epoch 9/20\n",
            "10/10 [==============================] - 0s 2ms/step - loss: 0.6457 - accuracy: 0.6482\n",
            "Epoch 10/20\n",
            "10/10 [==============================] - 0s 2ms/step - loss: 0.6453 - accuracy: 0.6482\n",
            "Epoch 11/20\n",
            "10/10 [==============================] - 0s 2ms/step - loss: 0.6442 - accuracy: 0.6482\n",
            "Epoch 12/20\n",
            "10/10 [==============================] - 0s 2ms/step - loss: 0.6441 - accuracy: 0.6482\n",
            "Epoch 13/20\n",
            "10/10 [==============================] - 0s 4ms/step - loss: 0.6443 - accuracy: 0.6482\n",
            "Epoch 14/20\n",
            "10/10 [==============================] - 0s 2ms/step - loss: 0.6424 - accuracy: 0.6482\n",
            "Epoch 15/20\n",
            "10/10 [==============================] - 0s 2ms/step - loss: 0.6418 - accuracy: 0.6482\n",
            "Epoch 16/20\n",
            "10/10 [==============================] - 0s 2ms/step - loss: 0.6418 - accuracy: 0.6482\n",
            "Epoch 17/20\n",
            "10/10 [==============================] - 0s 2ms/step - loss: 0.6409 - accuracy: 0.6482\n",
            "Epoch 18/20\n",
            "10/10 [==============================] - 0s 2ms/step - loss: 0.6403 - accuracy: 0.6482\n",
            "Epoch 19/20\n",
            "10/10 [==============================] - 0s 2ms/step - loss: 0.6395 - accuracy: 0.6482\n",
            "Epoch 20/20\n",
            "10/10 [==============================] - 0s 3ms/step - loss: 0.6389 - accuracy: 0.6482\n"
          ]
        }
      ],
      "source": [
        "history2 = model2.fit(X_train, y_train, epochs=25,batch_size=64)"
      ]
    },
    {
      "cell_type": "code",
      "execution_count": 129,
      "metadata": {
        "colab": {
          "base_uri": "https://localhost:8080/"
        },
        "id": "jvkc_UidomHA",
        "outputId": "b1ddff4d-6faf-4db9-9077-5ad7a4984e7b"
      },
      "outputs": [
        {
          "name": "stdout",
          "output_type": "stream",
          "text": [
            "5/5 [==============================] - 0s 3ms/step - loss: 0.6297 - accuracy: 0.6623\n"
          ]
        },
        {
          "data": {
            "text/plain": [
              "[0.6296935081481934, 0.6623376607894897]"
            ]
          },
          "execution_count": 129,
          "metadata": {},
          "output_type": "execute_result"
        }
      ],
      "source": [
        "model2.evaluate(X_test, y_test)"
      ]
    },
    {
      "cell_type": "code",
      "execution_count": 130,
      "metadata": {
        "colab": {
          "base_uri": "https://localhost:8080/"
        },
        "id": "AP4mKptJol4b",
        "outputId": "9b6cc054-383c-4d78-896e-7c018afd3da7"
      },
      "outputs": [
        {
          "name": "stdout",
          "output_type": "stream",
          "text": [
            "20/20 [==============================] - 0s 2ms/step - loss: 0.6379 - accuracy: 0.6482\n"
          ]
        },
        {
          "data": {
            "text/plain": [
              "[0.6378808617591858, 0.6482084393501282]"
            ]
          },
          "execution_count": 130,
          "metadata": {},
          "output_type": "execute_result"
        }
      ],
      "source": [
        "model2.evaluate(X_train, y_train)"
      ]
    },
    {
      "cell_type": "markdown",
      "metadata": {
        "id": "MqwzrSvAO1iF"
      },
      "source": [
        "With this setting the accuracy is  still not so satisfying."
      ]
    },
    {
      "cell_type": "code",
      "execution_count": 170,
      "metadata": {
        "id": "lrpD2w6_y1ct"
      },
      "outputs": [],
      "source": [
        "model4 = keras.models.Sequential()\n",
        "model4.add(keras.layers.Dense(200,activation=\"relu\",input_shape=(X_train.shape[1],)))\n",
        "model4.add(keras.layers.Dense(100,activation=\"relu\"))\n",
        "model4.add(keras.layers.Dense(50,activation=\"tanh\"))\n",
        "model4.add(keras.layers.Dense(1,activation=\"sigmoid\"))"
      ]
    },
    {
      "cell_type": "code",
      "execution_count": 171,
      "metadata": {
        "id": "v-jcvlAMOsvx"
      },
      "outputs": [],
      "source": [
        "model4.compile(loss=\"binary_crossentropy\",\n",
        "              optimizer=Adam(),\n",
        "              metrics=[\"accuracy\"])"
      ]
    },
    {
      "cell_type": "code",
      "execution_count": 172,
      "metadata": {
        "colab": {
          "base_uri": "https://localhost:8080/"
        },
        "id": "8E-r2GleOssm",
        "outputId": "89704c05-3f65-478e-eee0-5d9c490ad0c4"
      },
      "outputs": [
        {
          "name": "stdout",
          "output_type": "stream",
          "text": [
            "Epoch 1/40\n",
            "10/10 [==============================] - 1s 3ms/step - loss: 0.8015 - accuracy: 0.5765\n",
            "Epoch 2/40\n",
            "10/10 [==============================] - 0s 3ms/step - loss: 0.6472 - accuracy: 0.6352\n",
            "Epoch 3/40\n",
            "10/10 [==============================] - 0s 3ms/step - loss: 0.6980 - accuracy: 0.5765\n",
            "Epoch 4/40\n",
            "10/10 [==============================] - 0s 3ms/step - loss: 0.6514 - accuracy: 0.6482\n",
            "Epoch 5/40\n",
            "10/10 [==============================] - 0s 3ms/step - loss: 0.7131 - accuracy: 0.5700\n",
            "Epoch 6/40\n",
            "10/10 [==============================] - 0s 3ms/step - loss: 0.6633 - accuracy: 0.6482\n",
            "Epoch 7/40\n",
            "10/10 [==============================] - 0s 3ms/step - loss: 0.6604 - accuracy: 0.6482\n",
            "Epoch 8/40\n",
            "10/10 [==============================] - 0s 4ms/step - loss: 0.6793 - accuracy: 0.5472\n",
            "Epoch 9/40\n",
            "10/10 [==============================] - 0s 3ms/step - loss: 0.6659 - accuracy: 0.6482\n",
            "Epoch 10/40\n",
            "10/10 [==============================] - 0s 3ms/step - loss: 0.6692 - accuracy: 0.6482\n",
            "Epoch 11/40\n",
            "10/10 [==============================] - 0s 3ms/step - loss: 0.6666 - accuracy: 0.6482\n",
            "Epoch 12/40\n",
            "10/10 [==============================] - 0s 3ms/step - loss: 0.6546 - accuracy: 0.6482\n",
            "Epoch 13/40\n",
            "10/10 [==============================] - 0s 5ms/step - loss: 0.6503 - accuracy: 0.6482\n",
            "Epoch 14/40\n",
            "10/10 [==============================] - 0s 3ms/step - loss: 0.6501 - accuracy: 0.6482\n",
            "Epoch 15/40\n",
            "10/10 [==============================] - 0s 3ms/step - loss: 0.6539 - accuracy: 0.6482\n",
            "Epoch 16/40\n",
            "10/10 [==============================] - 0s 3ms/step - loss: 0.6557 - accuracy: 0.6482\n",
            "Epoch 17/40\n",
            "10/10 [==============================] - 0s 3ms/step - loss: 0.6501 - accuracy: 0.6482\n",
            "Epoch 18/40\n",
            "10/10 [==============================] - 0s 3ms/step - loss: 0.6681 - accuracy: 0.6482\n",
            "Epoch 19/40\n",
            "10/10 [==============================] - 0s 4ms/step - loss: 0.6615 - accuracy: 0.6221\n",
            "Epoch 20/40\n",
            "10/10 [==============================] - 0s 5ms/step - loss: 0.6644 - accuracy: 0.6254\n",
            "Epoch 21/40\n",
            "10/10 [==============================] - 0s 3ms/step - loss: 0.6579 - accuracy: 0.6482\n",
            "Epoch 22/40\n",
            "10/10 [==============================] - 0s 3ms/step - loss: 0.6791 - accuracy: 0.6482\n",
            "Epoch 23/40\n",
            "10/10 [==============================] - 0s 3ms/step - loss: 0.6681 - accuracy: 0.6482\n",
            "Epoch 24/40\n",
            "10/10 [==============================] - 0s 3ms/step - loss: 0.6538 - accuracy: 0.6482\n",
            "Epoch 25/40\n",
            "10/10 [==============================] - 0s 3ms/step - loss: 0.6605 - accuracy: 0.6482\n",
            "Epoch 26/40\n",
            "10/10 [==============================] - 0s 3ms/step - loss: 0.6504 - accuracy: 0.6482\n",
            "Epoch 27/40\n",
            "10/10 [==============================] - 0s 3ms/step - loss: 0.6605 - accuracy: 0.6482\n",
            "Epoch 28/40\n",
            "10/10 [==============================] - 0s 3ms/step - loss: 0.6686 - accuracy: 0.6482\n",
            "Epoch 29/40\n",
            "10/10 [==============================] - 0s 3ms/step - loss: 0.6668 - accuracy: 0.6482\n",
            "Epoch 30/40\n",
            "10/10 [==============================] - 0s 3ms/step - loss: 0.6597 - accuracy: 0.6482\n",
            "Epoch 31/40\n",
            "10/10 [==============================] - 0s 3ms/step - loss: 0.6634 - accuracy: 0.6091\n",
            "Epoch 32/40\n",
            "10/10 [==============================] - 0s 3ms/step - loss: 0.6503 - accuracy: 0.6482\n",
            "Epoch 33/40\n",
            "10/10 [==============================] - 0s 3ms/step - loss: 0.6497 - accuracy: 0.6482\n",
            "Epoch 34/40\n",
            "10/10 [==============================] - 0s 3ms/step - loss: 0.6738 - accuracy: 0.6156\n",
            "Epoch 35/40\n",
            "10/10 [==============================] - 0s 3ms/step - loss: 0.6803 - accuracy: 0.6482\n",
            "Epoch 36/40\n",
            "10/10 [==============================] - 0s 3ms/step - loss: 0.6589 - accuracy: 0.6482\n",
            "Epoch 37/40\n",
            "10/10 [==============================] - 0s 3ms/step - loss: 0.6809 - accuracy: 0.5993\n",
            "Epoch 38/40\n",
            "10/10 [==============================] - 0s 3ms/step - loss: 0.6771 - accuracy: 0.5700\n",
            "Epoch 39/40\n",
            "10/10 [==============================] - 0s 3ms/step - loss: 0.6736 - accuracy: 0.6482\n",
            "Epoch 40/40\n",
            "10/10 [==============================] - 0s 3ms/step - loss: 0.6705 - accuracy: 0.6482\n"
          ]
        }
      ],
      "source": [
        "history4 = model4.fit(X_train, y_train, epochs=40,batch_size=64)"
      ]
    },
    {
      "cell_type": "code",
      "execution_count": 168,
      "metadata": {
        "colab": {
          "base_uri": "https://localhost:8080/"
        },
        "id": "xflKWZEgPDSp",
        "outputId": "f2d53d8c-9a72-4486-b292-ec98e83003c5"
      },
      "outputs": [
        {
          "name": "stdout",
          "output_type": "stream",
          "text": [
            "5/5 [==============================] - 0s 3ms/step - loss: 0.6727 - accuracy: 0.6623\n"
          ]
        },
        {
          "data": {
            "text/plain": [
              "[0.6727242469787598, 0.6623376607894897]"
            ]
          },
          "execution_count": 168,
          "metadata": {},
          "output_type": "execute_result"
        }
      ],
      "source": [
        "model4.evaluate(X_test, y_test)"
      ]
    },
    {
      "cell_type": "code",
      "execution_count": 169,
      "metadata": {
        "colab": {
          "base_uri": "https://localhost:8080/"
        },
        "id": "sxe9t0RRPEkx",
        "outputId": "63931638-8840-427b-fcd7-d831f0faf05c"
      },
      "outputs": [
        {
          "name": "stdout",
          "output_type": "stream",
          "text": [
            "20/20 [==============================] - 0s 2ms/step - loss: 0.6902 - accuracy: 0.6482\n"
          ]
        },
        {
          "data": {
            "text/plain": [
              "[0.690226674079895, 0.6482084393501282]"
            ]
          },
          "execution_count": 169,
          "metadata": {},
          "output_type": "execute_result"
        }
      ],
      "source": [
        "model4.evaluate(X_train, y_train)"
      ]
    },
    {
      "cell_type": "markdown",
      "metadata": {
        "id": "yh-4Y9Y-Paz-"
      },
      "source": [
        "Still very bad results."
      ]
    },
    {
      "cell_type": "code",
      "execution_count": 178,
      "metadata": {
        "id": "DKCBIqCcPeM4"
      },
      "outputs": [],
      "source": [
        "model3 = keras.models.Sequential()\n",
        "model3.add(keras.layers.Dense(100,activation=\"relu\",input_shape=(X_train.shape[1],)))\n",
        "model3.add(keras.layers.Dense(50,activation=\"relu\"))\n",
        "model3.add(keras.layers.Dense(25,activation=\"relu\"))\n",
        "model3.add(keras.layers.Dense(1,activation=\"sigmoid\"))"
      ]
    },
    {
      "cell_type": "code",
      "execution_count": 179,
      "metadata": {
        "id": "xkKkmJ5XPeoO"
      },
      "outputs": [],
      "source": [
        "model3.compile(loss=\"binary_crossentropy\",\n",
        "              optimizer=RMSprop(learning_rate=0.001),\n",
        "              metrics=[\"accuracy\"])"
      ]
    },
    {
      "cell_type": "code",
      "execution_count": 180,
      "metadata": {
        "colab": {
          "base_uri": "https://localhost:8080/"
        },
        "id": "JvebM0tKQYna",
        "outputId": "9915435a-e8e3-4ac8-b4ee-e71b95cad530"
      },
      "outputs": [
        {
          "name": "stdout",
          "output_type": "stream",
          "text": [
            "Epoch 1/50\n",
            "10/10 [==============================] - 1s 3ms/step - loss: 0.6646 - accuracy: 0.6482\n",
            "Epoch 2/50\n",
            "10/10 [==============================] - 0s 3ms/step - loss: 0.6438 - accuracy: 0.6515\n",
            "Epoch 3/50\n",
            "10/10 [==============================] - 0s 2ms/step - loss: 0.6255 - accuracy: 0.6645\n",
            "Epoch 4/50\n",
            "10/10 [==============================] - 0s 3ms/step - loss: 0.6043 - accuracy: 0.6824\n",
            "Epoch 5/50\n",
            "10/10 [==============================] - 0s 3ms/step - loss: 0.5918 - accuracy: 0.6938\n",
            "Epoch 6/50\n",
            "10/10 [==============================] - 0s 2ms/step - loss: 0.5757 - accuracy: 0.7036\n",
            "Epoch 7/50\n",
            "10/10 [==============================] - 0s 3ms/step - loss: 0.5628 - accuracy: 0.7101\n",
            "Epoch 8/50\n",
            "10/10 [==============================] - 0s 2ms/step - loss: 0.5540 - accuracy: 0.7150\n",
            "Epoch 9/50\n",
            "10/10 [==============================] - 0s 3ms/step - loss: 0.5440 - accuracy: 0.7296\n",
            "Epoch 10/50\n",
            "10/10 [==============================] - 0s 2ms/step - loss: 0.5411 - accuracy: 0.7264\n",
            "Epoch 11/50\n",
            "10/10 [==============================] - 0s 3ms/step - loss: 0.5282 - accuracy: 0.7362\n",
            "Epoch 12/50\n",
            "10/10 [==============================] - 0s 2ms/step - loss: 0.5254 - accuracy: 0.7394\n",
            "Epoch 13/50\n",
            "10/10 [==============================] - 0s 4ms/step - loss: 0.5156 - accuracy: 0.7378\n",
            "Epoch 14/50\n",
            "10/10 [==============================] - 0s 10ms/step - loss: 0.5168 - accuracy: 0.7313\n",
            "Epoch 15/50\n",
            "10/10 [==============================] - 0s 15ms/step - loss: 0.5058 - accuracy: 0.7541\n",
            "Epoch 16/50\n",
            "10/10 [==============================] - 0s 5ms/step - loss: 0.4956 - accuracy: 0.7557\n",
            "Epoch 17/50\n",
            "10/10 [==============================] - 0s 6ms/step - loss: 0.4946 - accuracy: 0.7557\n",
            "Epoch 18/50\n",
            "10/10 [==============================] - 0s 5ms/step - loss: 0.4887 - accuracy: 0.7573\n",
            "Epoch 19/50\n",
            "10/10 [==============================] - 0s 2ms/step - loss: 0.4821 - accuracy: 0.7508\n",
            "Epoch 20/50\n",
            "10/10 [==============================] - 0s 3ms/step - loss: 0.4831 - accuracy: 0.7687\n",
            "Epoch 21/50\n",
            "10/10 [==============================] - 0s 3ms/step - loss: 0.4738 - accuracy: 0.7752\n",
            "Epoch 22/50\n",
            "10/10 [==============================] - 0s 3ms/step - loss: 0.4734 - accuracy: 0.7573\n",
            "Epoch 23/50\n",
            "10/10 [==============================] - 0s 3ms/step - loss: 0.4667 - accuracy: 0.7720\n",
            "Epoch 24/50\n",
            "10/10 [==============================] - 0s 3ms/step - loss: 0.4655 - accuracy: 0.7752\n",
            "Epoch 25/50\n",
            "10/10 [==============================] - 0s 2ms/step - loss: 0.4688 - accuracy: 0.7736\n",
            "Epoch 26/50\n",
            "10/10 [==============================] - 0s 2ms/step - loss: 0.4597 - accuracy: 0.7769\n",
            "Epoch 27/50\n",
            "10/10 [==============================] - 0s 3ms/step - loss: 0.4581 - accuracy: 0.7850\n",
            "Epoch 28/50\n",
            "10/10 [==============================] - 0s 3ms/step - loss: 0.4508 - accuracy: 0.7752\n",
            "Epoch 29/50\n",
            "10/10 [==============================] - 0s 2ms/step - loss: 0.4583 - accuracy: 0.7834\n",
            "Epoch 30/50\n",
            "10/10 [==============================] - 0s 3ms/step - loss: 0.4477 - accuracy: 0.7883\n",
            "Epoch 31/50\n",
            "10/10 [==============================] - 0s 3ms/step - loss: 0.4484 - accuracy: 0.7818\n",
            "Epoch 32/50\n",
            "10/10 [==============================] - 0s 3ms/step - loss: 0.4418 - accuracy: 0.7818\n",
            "Epoch 33/50\n",
            "10/10 [==============================] - 0s 5ms/step - loss: 0.4502 - accuracy: 0.7883\n",
            "Epoch 34/50\n",
            "10/10 [==============================] - 0s 5ms/step - loss: 0.4370 - accuracy: 0.7980\n",
            "Epoch 35/50\n",
            "10/10 [==============================] - 0s 5ms/step - loss: 0.4463 - accuracy: 0.7948\n",
            "Epoch 36/50\n",
            "10/10 [==============================] - 0s 9ms/step - loss: 0.4431 - accuracy: 0.7850\n",
            "Epoch 37/50\n",
            "10/10 [==============================] - 0s 7ms/step - loss: 0.4338 - accuracy: 0.7883\n",
            "Epoch 38/50\n",
            "10/10 [==============================] - 0s 4ms/step - loss: 0.4373 - accuracy: 0.7899\n",
            "Epoch 39/50\n",
            "10/10 [==============================] - 0s 5ms/step - loss: 0.4304 - accuracy: 0.7818\n",
            "Epoch 40/50\n",
            "10/10 [==============================] - 0s 3ms/step - loss: 0.4332 - accuracy: 0.8013\n",
            "Epoch 41/50\n",
            "10/10 [==============================] - 0s 3ms/step - loss: 0.4392 - accuracy: 0.7899\n",
            "Epoch 42/50\n",
            "10/10 [==============================] - 0s 2ms/step - loss: 0.4267 - accuracy: 0.7915\n",
            "Epoch 43/50\n",
            "10/10 [==============================] - 0s 3ms/step - loss: 0.4317 - accuracy: 0.7883\n",
            "Epoch 44/50\n",
            "10/10 [==============================] - 0s 2ms/step - loss: 0.4239 - accuracy: 0.7980\n",
            "Epoch 45/50\n",
            "10/10 [==============================] - 0s 3ms/step - loss: 0.4355 - accuracy: 0.8046\n",
            "Epoch 46/50\n",
            "10/10 [==============================] - 0s 3ms/step - loss: 0.4343 - accuracy: 0.7850\n",
            "Epoch 47/50\n",
            "10/10 [==============================] - 0s 3ms/step - loss: 0.4307 - accuracy: 0.8062\n",
            "Epoch 48/50\n",
            "10/10 [==============================] - 0s 3ms/step - loss: 0.4312 - accuracy: 0.7948\n",
            "Epoch 49/50\n",
            "10/10 [==============================] - 0s 3ms/step - loss: 0.4206 - accuracy: 0.7899\n",
            "Epoch 50/50\n",
            "10/10 [==============================] - 0s 3ms/step - loss: 0.4228 - accuracy: 0.7883\n"
          ]
        }
      ],
      "source": [
        "history3 = model3.fit(X_train, y_train, epochs=50,batch_size=64)"
      ]
    },
    {
      "cell_type": "code",
      "execution_count": 181,
      "metadata": {
        "colab": {
          "base_uri": "https://localhost:8080/"
        },
        "id": "VkQN86o5QYfw",
        "outputId": "1cf4c552-cc94-4e4f-fd77-4d64b18440cc"
      },
      "outputs": [
        {
          "name": "stdout",
          "output_type": "stream",
          "text": [
            "5/5 [==============================] - 0s 4ms/step - loss: 0.5418 - accuracy: 0.7922\n"
          ]
        },
        {
          "data": {
            "text/plain": [
              "[0.5417773723602295, 0.7922077775001526]"
            ]
          },
          "execution_count": 181,
          "metadata": {},
          "output_type": "execute_result"
        }
      ],
      "source": [
        "model3.evaluate(X_test, y_test)"
      ]
    },
    {
      "cell_type": "code",
      "execution_count": 182,
      "metadata": {
        "colab": {
          "base_uri": "https://localhost:8080/"
        },
        "id": "cB6VNqj4Qa1K",
        "outputId": "62a6aa19-edeb-4159-81b5-9162d0c928d7"
      },
      "outputs": [
        {
          "name": "stdout",
          "output_type": "stream",
          "text": [
            "20/20 [==============================] - 0s 3ms/step - loss: 0.4271 - accuracy: 0.7964\n"
          ]
        },
        {
          "data": {
            "text/plain": [
              "[0.42708754539489746, 0.7964169383049011]"
            ]
          },
          "execution_count": 182,
          "metadata": {},
          "output_type": "execute_result"
        }
      ],
      "source": [
        "model3.evaluate(X_train, y_train)"
      ]
    },
    {
      "cell_type": "markdown",
      "metadata": {
        "id": "0_-IBSesRSL0"
      },
      "source": [
        "We reached 80% of accuracy, better than before. The strange thing is an accuracy so low on the training set, maybe because in the dataset there are several 0 values."
      ]
    }
  ],
  "metadata": {
    "colab": {
      "provenance": []
    },
    "kernelspec": {
      "display_name": "Python 3",
      "language": "python",
      "name": "python3"
    },
    "language_info": {
      "codemirror_mode": {
        "name": "ipython",
        "version": 3
      },
      "file_extension": ".py",
      "mimetype": "text/x-python",
      "name": "python",
      "nbconvert_exporter": "python",
      "pygments_lexer": "ipython3",
      "version": "3.7.3"
    },
    "nbTranslate": {
      "displayLangs": [
        "*"
      ],
      "hotkey": "alt-t",
      "langInMainMenu": true,
      "sourceLang": "en",
      "targetLang": "fr",
      "useGoogleTranslate": true
    }
  },
  "nbformat": 4,
  "nbformat_minor": 0
}
